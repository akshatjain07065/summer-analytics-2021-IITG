{
 "cells": [
  {
   "cell_type": "markdown",
   "metadata": {},
   "source": [
    "<br>\n",
    "<h1 style = \"font-size:30px; font-family:cursive ; font-weight : bold; color : #0331A8; text-align: center; border-radius: 10px 100px;\">Understanding Regularization in Machine Learning</h1>\n",
    "<br>"
   ]
  },
  {
   "cell_type": "markdown",
   "metadata": {},
   "source": [
    "![](https://miro.medium.com/max/1050/1*rrjJaesIzo46XTT3y-SYXA.gif)"
   ]
  },
  {
   "cell_type": "markdown",
   "metadata": {},
   "source": [
    "### It is highly recommended to read the documentation before implementing any alogorithm."
   ]
  },
  {
   "cell_type": "markdown",
   "metadata": {},
   "source": [
    "- **Linear Regression** : https://scikit-learn.org/stable/modules/generated/sklearn.linear_model.LinearRegression.html\n",
    "- **Lasso Regression** : https://scikit-learn.org/stable/modules/generated/sklearn.linear_model.Lasso.html <br>\n",
    "- **Lasso CV** : https://scikit-learn.org/stable/modules/generated/sklearn.linear_model.LassoCV.html#sklearn.linear_model.LassoCV <br>\n",
    "- **Ridge Regression** : https://scikit-learn.org/stable/modules/generated/sklearn.linear_model.Ridge.html <br>\n",
    "- **Ridge CV** : https://scikit-learn.org/stable/modules/generated/sklearn.linear_model.RidgeCV.html#sklearn.linear_model.RidgeCV\n",
    "\n",
    "- **R2_SCORE** : http://scikit-learn.org/stable/modules/generated/sklearn.metrics.r2_score.html <br>\n",
    "- **MSE** : http://scikit-learn.org/stable/modules/generated/sklearn.metrics.mean_squared_error.html <br>\n",
    "- **MAE** : http://scikit-learn.org/stable/modules/generated/sklearn.metrics.mean_absolute_error.html"
   ]
  },
  {
   "cell_type": "markdown",
   "metadata": {},
   "source": [
    "<span style=\"font-size:20px;color:#AA0078;font-weight : bold\">1) Import Numpy, Pandas, Matplotlib, Seaborn and Linear Regression</span>"
   ]
  },
  {
   "cell_type": "code",
   "execution_count": null,
   "metadata": {},
   "outputs": [],
   "source": [
    "## ======== YOUR CODE HERE ======== ##\n",
    "\n",
    "\n",
    "\n",
    "\n",
    "## ================================ ##\n",
    "\n",
    "## Import Lasso,Rigde along with thier CV versions. This step is done for you.\n",
    "from sklearn.linear_model import Ridge, Lasso\n",
    "from sklearn.linear_model import RidgeCV, LassoCV\n",
    "\n",
    "## Import evaluation metrics and scalers.\n",
    "from sklearn.metrics import r2_score,mean_squared_error,mean_absolute_error\n",
    "from sklearn.model_selection import train_test_split, cross_val_score\n",
    "from sklearn import model_selection\n",
    "from sklearn.preprocessing import StandardScaler"
   ]
  },
  {
   "cell_type": "markdown",
   "metadata": {},
   "source": [
    "<span style=\"font-size:20px;color:#AA0078;font-weight : bold\">2) Read the provided dataset.</span>"
   ]
  },
  {
   "cell_type": "code",
   "execution_count": null,
   "metadata": {},
   "outputs": [],
   "source": [
    "## ======== YOUR CODE HERE ======== ##\n",
    "\n"
   ]
  },
  {
   "cell_type": "markdown",
   "metadata": {},
   "source": [
    "<span style=\"font-size:20px;color:#AA0078;font-weight : bold\">3) Check the shape of the dataset</span>"
   ]
  },
  {
   "cell_type": "code",
   "execution_count": null,
   "metadata": {},
   "outputs": [],
   "source": [
    "## ======== YOUR CODE HERE ======== ##\n",
    "  ## It should come as (1460,81) ##\n"
   ]
  },
  {
   "cell_type": "markdown",
   "metadata": {},
   "source": [
    "<span style=\"font-size:20px;color:#AA0078;font-weight : bold\">4) Assign all the numerical features of the Dataset as df_num and apply describe method on it.</span>"
   ]
  },
  {
   "cell_type": "code",
   "execution_count": null,
   "metadata": {},
   "outputs": [],
   "source": [
    "## Categorical features comes under \"object\" data-types. SO try exculding them.(This has been done for you.)\n",
    "## Use decribe on the assigned variable. \n",
    "df_num = df.select_dtypes(exclude=\"object\")\n",
    "__________.describe().T.style.background_gradient(subset=['std'], cmap='Oranges')\\\n",
    "                            .background_gradient(subset=['50%'], cmap='Oranges')"
   ]
  },
  {
   "cell_type": "markdown",
   "metadata": {},
   "source": [
    "<span style=\"font-size:20px;color:#AA0078;font-weight : bold\">5) Check the correlation for whole dataset</span>"
   ]
  },
  {
   "cell_type": "code",
   "execution_count": null,
   "metadata": {},
   "outputs": [],
   "source": [
    "## ======== YOUR CODE HERE ======== ##\n",
    "______.corr().style.background_gradient(cmap='GnBu')"
   ]
  },
  {
   "cell_type": "markdown",
   "metadata": {},
   "source": [
    "<span style=\"font-size:20px;color:#AA0078;font-weight : bold\">6) Feature Encoding for categorical columns:</span>"
   ]
  },
  {
   "cell_type": "code",
   "execution_count": null,
   "metadata": {},
   "outputs": [],
   "source": [
    "## Include \"object\" data-types for categorical columns.\n",
    "df_cat = df.select_dtypes(include=\"_______\").columns.values\n",
    "\n",
    "## Use One Hot encoding on the df and use columns as df_cat\n",
    "\n",
    "## ======== YOUR CODE HERE ======== ##\n",
    "df_encoded = ________________"
   ]
  },
  {
   "cell_type": "code",
   "execution_count": null,
   "metadata": {},
   "outputs": [],
   "source": [
    "print(\"Shape before Encoding:\",df.shape)\n",
    "print(\"\\nShape after Encoding:\",df_encoded.shape)"
   ]
  },
  {
   "cell_type": "code",
   "execution_count": null,
   "metadata": {},
   "outputs": [],
   "source": [
    "df_encoded.head()"
   ]
  },
  {
   "cell_type": "markdown",
   "metadata": {},
   "source": [
    "<span style=\"font-size:20px;color:#AA0078;font-weight : bold\">7) Check NAN value in the dataset and fill it with '0' with inplace=True</span>"
   ]
  },
  {
   "cell_type": "code",
   "execution_count": null,
   "metadata": {},
   "outputs": [],
   "source": [
    "df2 = df_encoded.copy()\n",
    "\n",
    "## ======== YOUR CODE HERE ======== ##\n",
    "\n",
    "df2.__________________"
   ]
  },
  {
   "cell_type": "code",
   "execution_count": null,
   "metadata": {},
   "outputs": [],
   "source": [
    "df2.isnull().sum().max()"
   ]
  },
  {
   "cell_type": "markdown",
   "metadata": {},
   "source": [
    "<span style=\"font-size:20px;color:#AA0078;font-weight : bold\">8) Drop 'Id' and 'SalePrice' column from cleaned encoded data (df2) and assign it to variable X</span>"
   ]
  },
  {
   "cell_type": "code",
   "execution_count": null,
   "metadata": {},
   "outputs": [],
   "source": [
    "## ======== YOUR CODE HERE ======== ##\n",
    "\n",
    "X =\n",
    "\n",
    "## ================================ ##\n",
    "\n",
    "Y = df2['SalePrice']"
   ]
  },
  {
   "cell_type": "markdown",
   "metadata": {},
   "source": [
    "<span style=\"font-size:20px;color:#AA0078;font-weight : bold\">9) Use train-test split on X and Y using random_state = 2021 and test_size = 0.25</span>"
   ]
  },
  {
   "cell_type": "code",
   "execution_count": null,
   "metadata": {},
   "outputs": [],
   "source": [
    "## ======== YOUR CODE HERE ======== ##\n",
    "\n",
    "X_train, X_test, y_train, y_test = \n",
    "\n",
    "## ================================ ##"
   ]
  },
  {
   "cell_type": "code",
   "execution_count": null,
   "metadata": {},
   "outputs": [],
   "source": [
    "## ======== YOUR CODE HERE ======== ##\n",
    "\n",
    "   ## Let us print the shapes:\n",
    "    \n",
    "print(\"X_train:\", ___________) # X_train\n",
    "print(\"X_test:\",_____________) # X_test\n",
    "print(\"y_train:\",____________) # y_train\n",
    "print(\"y_test:\",_____________) # y_test\n",
    "\n",
    "## ================================ ##\n",
    "\n",
    "print('\\nExpected shapes:\\n')\n",
    "print(\"X_train:(1095, 288)\")\n",
    "print(\"X_test: (365, 288)\")\n",
    "print(\"y_train:(1095,)\")\n",
    "print(\"y_test:(365,)\")\n",
    "print('\\nVerify if they are matching')"
   ]
  },
  {
   "cell_type": "markdown",
   "metadata": {},
   "source": [
    "<span style=\"font-size:20px;color:#AA0078;font-weight : bold\">10) Train the Linear Regression Model with all default parameters.</span>"
   ]
  },
  {
   "cell_type": "code",
   "execution_count": null,
   "metadata": {},
   "outputs": [],
   "source": [
    "## ======== YOUR CODE HERE ======== ##\n",
    "\n",
    "lr = ___________\n",
    "\n",
    "lr.fit(____________)\n",
    "\n",
    "## ================================ ##"
   ]
  },
  {
   "cell_type": "code",
   "execution_count": null,
   "metadata": {},
   "outputs": [],
   "source": [
    "## Check the intercept of Linear regression model\n",
    "\n",
    "## ======== YOUR CODE HERE ======== ##\n",
    "\n",
    "print(\"Intercept for Linear Model:\",___________)\n",
    "\n",
    "## ================================ ##"
   ]
  },
  {
   "cell_type": "code",
   "execution_count": null,
   "metadata": {},
   "outputs": [],
   "source": [
    "## ================================ ##\n",
    "    ## Run this cell as it is ## \n",
    "## ================================ ##\n",
    "print(\"Linear Regression Training R2 score is\",r2_score(np.square(y_train),np.square(lr.predict(X_train))))\n",
    "print(\"Linear Regression Testing R2 score is\",r2_score(np.square(y_test),np.square(lr.predict(X_test))))\n",
    "print(\"-\"*50)\n",
    "print(\"Linear Regression Training mean_square_error is\",mean_squared_error(np.square(y_train),np.square(lr.predict(X_train))))\n",
    "print(\"Linear Regression Testing mean_square_error is\",mean_squared_error(np.square(y_test),np.square(lr.predict(X_test))))\n",
    "print(\"-\"*50)\n",
    "print(\"Linear Regression Training mean_absolute_error is\",mean_absolute_error(np.square(y_train),np.square(lr.predict(X_train))))\n",
    "print(\"Linear Regression Testing mean_absolute_error is\",mean_absolute_error(np.square(y_test),np.square(lr.predict(X_test))))"
   ]
  },
  {
   "cell_type": "markdown",
   "metadata": {},
   "source": [
    "<div class=\"alert alert-block alert-info\"> 📌 Did you notice the huge difference b/w training and testing R2 score .</div>"
   ]
  },
  {
   "cell_type": "markdown",
   "metadata": {},
   "source": [
    "<span style=\"font-size:20px;color:#AA0078;font-weight : bold\">11) Train the Linear model with L1 regularization aka Lasso</span>"
   ]
  },
  {
   "cell_type": "code",
   "execution_count": null,
   "metadata": {},
   "outputs": [],
   "source": [
    "## ======== YOUR CODE HERE ======== ##\n",
    "\n",
    "lasso_model = ___________\n",
    "\n",
    "lasso_model.fit(____________)\n",
    "\n",
    "## ================================ ##"
   ]
  },
  {
   "cell_type": "code",
   "execution_count": null,
   "metadata": {},
   "outputs": [],
   "source": [
    "## Check the intercept of Lasso model\n",
    "\n",
    "## ======== YOUR CODE HERE ======== ##\n",
    "\n",
    "print(\"Intercept for Lasso Model:\",________________)\n",
    "\n",
    "## ================================ ##\n"
   ]
  },
  {
   "cell_type": "code",
   "execution_count": null,
   "metadata": {},
   "outputs": [],
   "source": [
    "## Find the training and testing error for Lasso Model\n",
    "\n",
    "## ======== YOUR CODE HERE ======== ##\n",
    "\n",
    "## R2 score\n",
    "print(\"Lasso Model Training R2 score is\",______________________________________________)\n",
    "print(\"Lasso Model Testing R2 score is\",_______________________________________________)\n",
    "print(\"-\"*50)\n",
    "\n",
    "## Mean Square Error (MSE)\n",
    "print(\"Lasso Model Training mean_square_error is\",_____________________________________)\n",
    "print(\"Lasso Model Testing mean_square_error is\",______________________________________)\n",
    "print(\"-\"*50)\n",
    "\n",
    "## Mean Absolute Error (MAE)\n",
    "print(\"Lasso Model Training mean_absolute_error is\",___________________________________)\n",
    "print(\"Lasso Model Testing mean_absolute_error is\",____________________________________)\n",
    "\n",
    "## ================================ ##"
   ]
  },
  {
   "cell_type": "markdown",
   "metadata": {},
   "source": [
    "<div class=\"alert alert-block alert-info\"> 📌 Did you noticed how we overcame Overfitting problem by Lasso Model (L1 regularization) .</div>"
   ]
  },
  {
   "cell_type": "markdown",
   "metadata": {},
   "source": [
    "<span style=\"font-size:20px;color:#AA0078;font-weight : bold\">12) Train the Linear model with L2 regularization aka Ridge </span>"
   ]
  },
  {
   "cell_type": "code",
   "execution_count": null,
   "metadata": {},
   "outputs": [],
   "source": [
    "## ======== YOUR CODE HERE ======== ##\n",
    "\n",
    "ridge = ___________\n",
    "\n",
    "ridge.fit(____________)\n",
    "\n",
    "## ================================ ##"
   ]
  },
  {
   "cell_type": "code",
   "execution_count": null,
   "metadata": {},
   "outputs": [],
   "source": [
    "## Check the intercept of Ridge model\n",
    "\n",
    "## ======== YOUR CODE HERE ======== ##\n",
    "\n",
    "print(\"Intercept for Ridge Model:\",______________)\n",
    "\n",
    "## ================================ ##"
   ]
  },
  {
   "cell_type": "code",
   "execution_count": null,
   "metadata": {},
   "outputs": [],
   "source": [
    "## Find the training and testing error for Ridge Model\n",
    "\n",
    "## ======== YOUR CODE HERE ======== ##\n",
    "\n",
    "## R2 score\n",
    "print(\"Ridge Model Training R2 score is\",___________________________________)\n",
    "print(\"Ridge Model Testing R2 score is\",____________________________________)\n",
    "print(\"-\"*50)\n",
    "\n",
    "## Mean Square Error (MSE)\n",
    "print(\"Ridge Model Training mean_square_error is\",__________________________)\n",
    "print(\"Ridge Model Testing mean_square_error is\",___________________________)\n",
    "print(\"-\"*50)\n",
    "\n",
    "## Mean Absolute Error (MAE)\n",
    "print(\"Ridge Model Training mean_absolute_error is\",________________________)\n",
    "print(\"Ridge Model Testing mean_absolute_error is\",_________________________)\n",
    "\n",
    "## ================================ ##"
   ]
  },
  {
   "cell_type": "markdown",
   "metadata": {},
   "source": [
    "<span style=\"font-size:20px;color:#AA0078;font-weight : bold\">13) Feature Transformation </span>"
   ]
  },
  {
   "cell_type": "code",
   "execution_count": null,
   "metadata": {},
   "outputs": [],
   "source": [
    "plt.subplot(122)\n",
    "plt.xlabel(\"Lot Area log\")\n",
    "plt.ylabel(\"SalePrice\")\n",
    "plt.title(\"Log Lot Area vs SalePrice\")\n",
    "\n",
    "## Plot a scatter plot with x as LOG-TRANSFORMED lot Area and y as Sale Price from original dataframe df.\n",
    "## ======== YOUR CODE HERE ======== ##\n",
    "\n",
    "________________(np.log(df[\"__________\"]),df[\"_________\"])\n",
    "\n",
    "## ================================ ##\n",
    "\n",
    "\n",
    "\n",
    "plt.subplot(121)\n",
    "plt.xlabel(\"Lot Area\")\n",
    "plt.ylabel(\"SalePrice\")\n",
    "plt.title(\"Lot Area vs SalePrice\")\n",
    "\n",
    "## Plot a scatter plot with x as lot Area and y as Sale Price from original dataframe df.\n",
    "\n",
    "## ======== YOUR CODE HERE ======== ##\n",
    "\n",
    "\n",
    "## ================================ ##\n",
    "\n",
    "plt.subplots_adjust(top=0.92, bottom=0.08, left=0.10, right=2.0, hspace=0.25,\n",
    "                    wspace=0.35)"
   ]
  },
  {
   "cell_type": "code",
   "execution_count": null,
   "metadata": {},
   "outputs": [],
   "source": [
    "plt.subplot(121)\n",
    "plt.xlabel(\"Index\")\n",
    "plt.ylabel(\"Sale price\")\n",
    "plt.hist(df[\"SalePrice\"])\n",
    "\n",
    "plt.subplot(122)\n",
    "plt.xlabel(\"Index\")\n",
    "plt.ylabel(\"Log sale price\")\n",
    "\n",
    "## Plot a histogram for LOG-TRANSFORMED SALE PRICE COLUMN. Use np.log1p instead of np.log\n",
    "\n",
    "## ======== YOUR CODE HERE ======== ##\n",
    "\n",
    "\n",
    "## ================================ ##\n",
    "\n",
    "plt.subplots_adjust(top=0.92, bottom=0.08, left=0.10, right=2.0, hspace=0.25,\n",
    "                    wspace=0.35)"
   ]
  },
  {
   "cell_type": "code",
   "execution_count": null,
   "metadata": {},
   "outputs": [],
   "source": [
    "## ================================ ##\n",
    "    ## Run this cell as it is ## \n",
    "## ================================ ##\n",
    "\n",
    "plt.subplot(121)\n",
    "plt.xlabel(\"Index\")\n",
    "plt.ylabel(\"Sale price\")\n",
    "plt.scatter(df[\"TotalBsmtSF\"],np.log1p(df[\"SalePrice\"]))\n",
    "\n",
    "plt.subplot(122)\n",
    "plt.xlabel(\"Index\")\n",
    "plt.ylabel(\"Log sale price\")\n",
    "plt.scatter(np.log1p(df[\"TotalBsmtSF\"]),np.log1p(df[\"SalePrice\"]))\n",
    "plt.subplots_adjust(top=0.92, bottom=0.08, left=0.10, right=2.0, hspace=0.25,\n",
    "                    wspace=0.35)"
   ]
  },
  {
   "cell_type": "code",
   "execution_count": null,
   "metadata": {},
   "outputs": [],
   "source": [
    "plt.subplot(121)\n",
    "plt.xlabel(\"Index\")\n",
    "plt.ylabel(\"Sale price\")\n",
    "plt.hist(df[\"LotArea\"])\n",
    "\n",
    "plt.subplot(122)\n",
    "plt.xlabel(\"Index\")\n",
    "plt.ylabel(\"Log sale price\")\n",
    "\n",
    "## Plot a histogram for LOG-TRANSFORMED LOT AREA. Use np.log1p instead of np.log\n",
    "\n",
    "## ======== YOUR CODE HERE ======== ##\n",
    "\n",
    "\n",
    "## ================================ ##\n",
    "\n",
    "plt.subplots_adjust(top=0.92, bottom=0.08, left=0.10, right=2.0, hspace=0.25,\n",
    "                    wspace=0.35)"
   ]
  },
  {
   "cell_type": "code",
   "execution_count": null,
   "metadata": {},
   "outputs": [],
   "source": [
    "plt.subplot(121)\n",
    "plt.xlabel(\"Index\")\n",
    "plt.ylabel(\"Basement Square feet\")\n",
    "plt.hist(df[\"TotalBsmtSF\"])\n",
    "\n",
    "plt.subplot(122)\n",
    "plt.xlabel(\"Index\")\n",
    "plt.ylabel(\"Log Basemetn Square Feet\")\n",
    "\n",
    "## Plot a histogram for LOG-TRANSFORMED TOTAL BASEMENT SQ. FEET. Use np.log1p instead of np.log\n",
    "\n",
    "## ======== YOUR CODE HERE ======== ##\n",
    "\n",
    "\n",
    "## ================================ ##\n",
    "\n",
    "plt.subplots_adjust(top=0.92, bottom=0.08, left=0.10, right=2.0, hspace=0.25,\n",
    "                    wspace=0.35)"
   ]
  },
  {
   "cell_type": "markdown",
   "metadata": {},
   "source": [
    "<span style=\"font-size:20px;color:#AA0078;font-weight : bold\">14) Transform the 'SalePrice' logarithmically and apply train-test split like before.</span>"
   ]
  },
  {
   "cell_type": "code",
   "execution_count": null,
   "metadata": {},
   "outputs": [],
   "source": [
    "## Use np.log1p instead of np.log\n",
    "\n",
    "## ======== YOUR CODE HERE ======== ##\n",
    "\n",
    "y1 = _________\n",
    "\n",
    "## ================================ ##\n"
   ]
  },
  {
   "cell_type": "code",
   "execution_count": null,
   "metadata": {},
   "outputs": [],
   "source": [
    "## Use random state as 2021 and test size as 0.25\n",
    "\n",
    "## ======== YOUR CODE HERE ======== ##\n",
    "\n",
    "X_train_trans, X_test_trans, y_train_trans, y_test_trans = \n",
    "\n",
    "## ================================ ##\n"
   ]
  },
  {
   "cell_type": "code",
   "execution_count": null,
   "metadata": {},
   "outputs": [],
   "source": [
    "## ======== YOUR CODE HERE ======== ##\n",
    "\n",
    "   ## Let us print the shapes:\n",
    "    \n",
    "print(\"X_train_trans:\", ________________) # X_train_trans\n",
    "print(\"X_test_trans:\",__________________) # X_test_trans\n",
    "print(\"y_train_trans:\",_________________) # y_train_trans\n",
    "print(\"y_test_trans:\",__________________) # y_test_trans\n",
    "\n",
    "## ================================ ##\n",
    "\n",
    "print('\\nExpected shapes:\\n')\n",
    "print(\"X_train:(1095, 288)\")\n",
    "print(\"X_test: (365, 288)\")\n",
    "print(\"y_train:(1095,)\")\n",
    "print(\"y_test:(365,)\")\n",
    "print('\\nVerify if they are matching')"
   ]
  },
  {
   "cell_type": "markdown",
   "metadata": {},
   "source": [
    "<span style=\"font-size:20px;color:#AA0078;font-weight : bold\">15) Train Linear Regression on transformed data with all default parameters.</span>"
   ]
  },
  {
   "cell_type": "code",
   "execution_count": null,
   "metadata": {},
   "outputs": [],
   "source": [
    "## ======== YOUR CODE HERE ======== ##\n",
    "\n",
    "lr_trans = ______________\n",
    "\n",
    "lr_trans.fit(________________)\n",
    "\n",
    "## ================================ ##"
   ]
  },
  {
   "cell_type": "code",
   "execution_count": null,
   "metadata": {},
   "outputs": [],
   "source": [
    "## Check the intercept of New Linear Model\n",
    "\n",
    "## ======== YOUR CODE HERE ======== ##\n",
    "\n",
    "print(\"Intercept for New Linear Model:\",____________)\n",
    "\n",
    "## ================================ ##"
   ]
  },
  {
   "cell_type": "code",
   "execution_count": null,
   "metadata": {},
   "outputs": [],
   "source": [
    "## Find the training and testing error for Linear transformed Model\n",
    "\n",
    "## ======== YOUR CODE HERE ======== ##\n",
    "\n",
    "## R2 score\n",
    "print(\"Linear Regression Training R2 score with log transformation is\",___________________________________)\n",
    "print(\"Linear Regression Testing R2 score with log transformation is\",____________________________________)\n",
    "print(\"-\"*50)\n",
    "\n",
    "## Mean Square Error (MSE)\n",
    "print(\"Linear Regression Training mean_square_error with log transformation is\",__________________________)\n",
    "print(\"Linear Regression Testing mean_square_error with log transformation is\",___________________________)\n",
    "print(\"-\"*50)\n",
    "\n",
    "## Mean Absolute Error (MAE)\n",
    "print(\"Linear Regression Training mean_absolute_error with log transformation is\",________________________)\n",
    "print(\"Linear Regression Testing mean_absolute_error with log transformation is\",_________________________)\n",
    "\n",
    "## ================================ ##"
   ]
  },
  {
   "cell_type": "markdown",
   "metadata": {},
   "source": [
    "<div class=\"alert alert-block alert-info\"> 📌 By doing Logarithmic transformation on the target label, we had improved our Linear Regression Model. .</div>"
   ]
  },
  {
   "cell_type": "markdown",
   "metadata": {},
   "source": [
    "<span style=\"font-size:20px;color:#AA0078;font-weight : bold\">16) Train Lasso model on the transformed data.</span>"
   ]
  },
  {
   "cell_type": "code",
   "execution_count": null,
   "metadata": {},
   "outputs": [],
   "source": [
    "## ======== YOUR CODE HERE ======== ##\n",
    "\n",
    "lasso_model_trans = ______________\n",
    "\n",
    "lasso_model_trans.fit(________________)\n",
    "\n",
    "## ================================ ##"
   ]
  },
  {
   "cell_type": "code",
   "execution_count": null,
   "metadata": {},
   "outputs": [],
   "source": [
    "## Find the training and testing error for Lasso Transformed Model\n",
    "\n",
    "## ======== YOUR CODE HERE ======== ##\n",
    "\n",
    "## R2 score\n",
    "print(\"Lasso Model Training R2 score with log transformation is\",___________________________________)\n",
    "print(\"Lasso Model Testing R2 score with log transformation is\",____________________________________)\n",
    "print(\"-\"*50)\n",
    "\n",
    "## Mean Square Error (MSE)\n",
    "print(\"Lasso Model Training mean_square_error with log transformation is\",__________________________)\n",
    "print(\"Lasso Model Testing mean_square_error with log transformation is\",___________________________)\n",
    "print(\"-\"*50)\n",
    "\n",
    "## Mean Absolute Error (MAE)\n",
    "print(\"Lasso Model Training mean_absolute_error with log transformation is\",________________________)\n",
    "print(\"Lasso Model Testing mean_absolute_error with log transformation is\",_________________________)\n",
    "\n",
    "## ================================ ##"
   ]
  },
  {
   "cell_type": "markdown",
   "metadata": {},
   "source": [
    "<span style=\"font-size:20px;color:#AA0078;font-weight : bold\">17) Train Ridge Model on the transformed data.</span>"
   ]
  },
  {
   "cell_type": "code",
   "execution_count": null,
   "metadata": {},
   "outputs": [],
   "source": [
    "## ======== YOUR CODE HERE ======== ##\n",
    "\n",
    "ridge_trans = ______________\n",
    "\n",
    "ridge_trans.fit(________________)\n",
    "\n",
    "## ================================ ##"
   ]
  },
  {
   "cell_type": "code",
   "execution_count": null,
   "metadata": {},
   "outputs": [],
   "source": [
    "## Find the training and testing error for Ridge Transformed Model\n",
    "\n",
    "## ======== YOUR CODE HERE ======== ##\n",
    "\n",
    "## R2 score\n",
    "print(\"Ridge Model Training R2 score with log transformation is\",___________________________________)\n",
    "print(\"Ridge Model Testing R2 score with log transformation is\",____________________________________)\n",
    "print(\"-\"*50)\n",
    "\n",
    "## Mean Square Error (MSE)\n",
    "print(\"Ridge Model Training mean_square_error with log transformation is\",__________________________)\n",
    "print(\"Ridge Model Testing mean_square_error with log transformation is\",___________________________)\n",
    "print(\"-\"*50)\n",
    "\n",
    "## Mean Absolute Error (MAE)\n",
    "print(\"Ridge Model Training mean_absolute_error with log transformation is\",________________________)\n",
    "print(\"Ridge Model Testing mean_absolute_error with log transformation is\",_________________________)\n",
    "\n",
    "## ================================ ##"
   ]
  },
  {
   "cell_type": "markdown",
   "metadata": {},
   "source": [
    "<span style=\"font-size:20px;color:#AA0078;font-weight : bold\">18) Scaling the data with Standard Scaler.</span>"
   ]
  },
  {
   "cell_type": "code",
   "execution_count": null,
   "metadata": {},
   "outputs": [],
   "source": [
    "## Use Standard Scaler to scale the train and test data\n",
    "\n",
    "## ======== YOUR CODE HERE ======== ##\n",
    "\n",
    "scaler = _______________\n",
    "\n",
    "X_train_scaled = scaler.fit_transform(________)\n",
    "\n",
    "X_test_scaled = scaler._______________\n",
    "\n",
    "## ================================ ##"
   ]
  },
  {
   "cell_type": "markdown",
   "metadata": {},
   "source": [
    "<span style=\"font-size:20px;color:#AA0078;font-weight : bold\">19) Train Lasso Model on the scaled data.</span>"
   ]
  },
  {
   "cell_type": "code",
   "execution_count": null,
   "metadata": {},
   "outputs": [],
   "source": [
    "## ======== YOUR CODE HERE ======== ##\n",
    "\n",
    "lasso_model_scaled = ______________\n",
    "\n",
    "lasso_model_scaled.fit(________________)\n",
    "\n",
    "## ================================ ##"
   ]
  },
  {
   "cell_type": "code",
   "execution_count": null,
   "metadata": {},
   "outputs": [],
   "source": [
    "## Find the training and testing error for Lasso scaled Model\n",
    "\n",
    "## ======== YOUR CODE HERE ======== ##\n",
    "\n",
    "## R2 score\n",
    "print(\"Lasso Model Training R2 score on scaled data is\",___________________________________)\n",
    "print(\"Lasso Model Testing R2 score on scaled data is\",____________________________________)\n",
    "print(\"-\"*50)\n",
    "\n",
    "## Mean Square Error (MSE)\n",
    "print(\"Lasso Model Training mean_square_error on scaled data is\",__________________________)\n",
    "print(\"Lasso Model Testing mean_square_error on scaled data is\",___________________________)\n",
    "print(\"-\"*50)\n",
    "\n",
    "## Mean Absolute Error (MAE)\n",
    "print(\"Lasso Model Training mean_absolute_error on scaled data is\",________________________)\n",
    "print(\"Lasso Model Testing mean_absolute_error on scaled data is\",_________________________)\n",
    "\n",
    "## ================================ ##"
   ]
  },
  {
   "cell_type": "markdown",
   "metadata": {},
   "source": [
    "<span style=\"font-size:20px;color:#AA0078;font-weight : bold\">20) Train Ridge Model on the scaled data.</span>"
   ]
  },
  {
   "cell_type": "code",
   "execution_count": null,
   "metadata": {},
   "outputs": [],
   "source": [
    "## ======== YOUR CODE HERE ======== ##\n",
    "\n",
    "ridge_scaled = ______________\n",
    "\n",
    "ridge_scaled.fit(________________)\n",
    "\n",
    "## ================================ ##"
   ]
  },
  {
   "cell_type": "code",
   "execution_count": null,
   "metadata": {},
   "outputs": [],
   "source": [
    "## Find the training and testing error for Ridge scaled Model\n",
    "\n",
    "## ======== YOUR CODE HERE ======== ##\n",
    "\n",
    "## R2 score\n",
    "print(\"Ridge Model Training R2 score on scaled data is\",___________________________________)\n",
    "print(\"Ridge Model Testing R2 score on scaled data is\",____________________________________)\n",
    "print(\"-\"*50)\n",
    "\n",
    "## Mean Square Error (MSE)\n",
    "print(\"Ridge Model Training mean_square_error on scaled data is\",__________________________)\n",
    "print(\"Ridge Model Testing mean_square_error on scaled data is\",___________________________)\n",
    "print(\"-\"*50)\n",
    "\n",
    "## Mean Absolute Error (MAE)\n",
    "print(\"Ridge Model Training mean_absolute_error on scaled data is\",________________________)\n",
    "print(\"Ridge Model Testing mean_absolute_error on scaled data is\",_________________________)\n",
    "\n",
    "## ================================ ##"
   ]
  },
  {
   "cell_type": "markdown",
   "metadata": {},
   "source": [
    "<span style=\"font-size:20px;color:#AA0078;font-weight : bold\">21) Train Ridge with cross validation on the scaled data.</span>"
   ]
  },
  {
   "cell_type": "code",
   "execution_count": null,
   "metadata": {},
   "outputs": [],
   "source": [
    "## ======== YOUR CODE HERE ======== ##\n",
    "\n",
    "ridge_cv = ______________\n",
    "\n",
    "ridge_cv.fit(________________)\n",
    "\n",
    "## ================================ ##"
   ]
  },
  {
   "cell_type": "code",
   "execution_count": null,
   "metadata": {},
   "outputs": [],
   "source": [
    "## Find the training and testing error for Ridge CV scaled Model\n",
    "\n",
    "## ======== YOUR CODE HERE ======== ##\n",
    "\n",
    "## R2 score\n",
    "print(\"Ridge Model CV Training R2 score on scaled data is\",___________________________________)\n",
    "print(\"Ridge Model CV Testing R2 score on scaled data is\",____________________________________)\n",
    "print(\"-\"*50)\n",
    "\n",
    "## Mean Square Error (MSE)\n",
    "print(\"Ridge Model CV Training mean_square_error on scaled data is\",__________________________)\n",
    "print(\"Ridge Model CV Testing mean_square_error on scaled data is\",___________________________)\n",
    "print(\"-\"*50)\n",
    "\n",
    "## Mean Absolute Error (MAE)\n",
    "print(\"Ridge Model CV Training mean_absolute_error on scaled data is\",________________________)\n",
    "print(\"Ridge Model CV Testing mean_absolute_error on scaled data is\",_________________________)\n",
    "\n",
    "## ================================ ##"
   ]
  },
  {
   "cell_type": "markdown",
   "metadata": {},
   "source": [
    "<br>\n",
    "<h1 style = \"font-size:30px; font-family:Brush Script MT ; font-weight : bold; color : #0331A8; text-align: center; border-radius: 10px 100px;\">The End</h1>\n",
    "<br>"
   ]
  },
  {
   "cell_type": "code",
   "execution_count": null,
   "metadata": {},
   "outputs": [],
   "source": []
  }
 ],
 "metadata": {
  "kernelspec": {
   "display_name": "Python 3",
   "language": "python",
   "name": "python3"
  },
  "language_info": {
   "codemirror_mode": {
    "name": "ipython",
    "version": 3
   },
   "file_extension": ".py",
   "mimetype": "text/x-python",
   "name": "python",
   "nbconvert_exporter": "python",
   "pygments_lexer": "ipython3",
   "version": "3.8.5"
  }
 },
 "nbformat": 4,
 "nbformat_minor": 4
}
